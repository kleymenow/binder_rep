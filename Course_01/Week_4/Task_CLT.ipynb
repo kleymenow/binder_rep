{
 "cells": [
  {
   "cell_type": "code",
   "execution_count": 1,
   "metadata": {
    "collapsed": true
   },
   "outputs": [],
   "source": [
    "import numpy as np\n",
    "import pandas as pd\n",
    "import math\n",
    "import scipy.stats as sts\n",
    "import matplotlib.pyplot as plt\n",
    "%matplotlib inline"
   ]
  },
  {
   "cell_type": "markdown",
   "metadata": {},
   "source": [
    "##### Выбираем распределение Парето"
   ]
  },
  {
   "cell_type": "code",
   "execution_count": 68,
   "metadata": {
    "collapsed": true
   },
   "outputs": [],
   "source": [
    "k = 10.0\n",
    "pareto_rv = sts.pareto(k)"
   ]
  },
  {
   "cell_type": "markdown",
   "metadata": {},
   "source": [
    "##### Генерируем выборку объёма 1000"
   ]
  },
  {
   "cell_type": "code",
   "execution_count": 69,
   "metadata": {
    "collapsed": true
   },
   "outputs": [],
   "source": [
    "rvs = pareto_rv.rvs(1000)"
   ]
  },
  {
   "cell_type": "markdown",
   "metadata": {},
   "source": [
    "##### Строим гистограмму выборки и теоретическую плотность распределения Парето"
   ]
  },
  {
   "cell_type": "code",
   "execution_count": 70,
   "metadata": {
    "collapsed": false
   },
   "outputs": [
    {
     "data": {
      "text/plain": [
       "<matplotlib.legend.Legend at 0xb56bb38>"
      ]
     },
     "execution_count": 70,
     "metadata": {},
     "output_type": "execute_result"
    },
    {
     "data": {
      "image/png": "[encoded data removed]",
      "text/plain": [
       "<matplotlib.figure.Figure at 0xd0d1eb8>"
      ]
     },
     "metadata": {},
     "output_type": "display_data"
    }
   ],
   "source": [
    "x = np.linspace(0,3,100)\n",
    "pdf = pareto_rv.pdf(x)\n",
    "plt.plot(x, pdf, label = 'Theoretical Pareto')\n",
    "plt.hist(rvs, normed = True, label = 'Histogram')\n",
    "plt.ylabel('$f(x)$')\n",
    "plt.xlabel('$x$')\n",
    "plt.legend()"
   ]
  },
  {
   "cell_type": "markdown",
   "metadata": {},
   "source": [
    "## Для значения   5 генерируем 1000 выборок и строим гистограммы распределения их выборочных средних"
   ]
  },
  {
   "cell_type": "markdown",
   "metadata": {},
   "source": [
    "#### Задаём начальные значения"
   ]
  },
  {
   "cell_type": "code",
   "execution_count": 71,
   "metadata": {
    "collapsed": true
   },
   "outputs": [],
   "source": [
    "pareto_list = []\n",
    "value = 5"
   ]
  },
  {
   "cell_type": "markdown",
   "metadata": {},
   "source": [
    "#### В цикле формируем 1000 выборок объёма 5 и формируем список выборочных средних"
   ]
  },
  {
   "cell_type": "code",
   "execution_count": 72,
   "metadata": {
    "collapsed": false
   },
   "outputs": [],
   "source": [
    "for i in range(1,1001):\n",
    "     sample = pareto_rv.rvs(value) # формируем вборку объёма 5\n",
    "     mid = sum(sample)/len(sample) # рассчитываем выборочное среднее\n",
    "     pareto_list.append(mid)       # добавляем выборочное среднее в список"
   ]
  },
  {
   "cell_type": "markdown",
   "metadata": {},
   "source": [
    "#### Рассчитываем параметры нормального распределения, аппроксимирующее распределение выборочных средних"
   ]
  },
  {
   "cell_type": "code",
   "execution_count": 73,
   "metadata": {
    "collapsed": false
   },
   "outputs": [],
   "source": [
    "# мю - математическое ожидание распределения Парето: k/(k-1)\n",
    "mu = float(k)/float(k-1) "
   ]
  },
  {
   "cell_type": "code",
   "execution_count": 74,
   "metadata": {
    "collapsed": false
   },
   "outputs": [],
   "source": [
    "# cигма - квадратный корень из дисперсии распределения Парето: (1/(k-1))**2 * k/(k-2); делим его на 5 - объём выборки\n",
    "sigma = math.sqrt(((1/float(k-1))**2)*(float(k)/float(k-2))/float(value))"
   ]
  },
  {
   "cell_type": "code",
   "execution_count": 75,
   "metadata": {
    "collapsed": false
   },
   "outputs": [
    {
     "name": "stdout",
     "output_type": "stream",
     "text": [
      "1.11111111111\n",
      "0.0555555555556\n"
     ]
    }
   ],
   "source": [
    "print mu\n",
    "print sigma"
   ]
  },
  {
   "cell_type": "markdown",
   "metadata": {},
   "source": [
    "##### Строим гистограмму распределения выборочных средних и плотность аппроксимирующего нормального распределения"
   ]
  },
  {
   "cell_type": "code",
   "execution_count": 76,
   "metadata": {
    "collapsed": false
   },
   "outputs": [
    {
     "data": {
      "text/plain": [
       "<matplotlib.legend.Legend at 0xcd8b5f8>"
      ]
     },
     "execution_count": 76,
     "metadata": {},
     "output_type": "execute_result"
    },
    {
     "data": {
      "image/png": "[encoded data removed]",
      "text/plain": [
       "<matplotlib.figure.Figure at 0x9dfaf98>"
      ]
     },
     "metadata": {},
     "output_type": "display_data"
    }
   ],
   "source": [
    "norm_rv = sts.norm(loc=mu, scale=sigma)\n",
    "x = np.linspace(0,3,100)\n",
    "pdf = norm_rv.pdf(x)\n",
    "plt.plot(x, pdf, label = 'Theoretical Pareto')\n",
    "plt.hist(pareto_list, normed = True, label = 'Histogram')\n",
    "plt.ylabel('$f(x)$')\n",
    "plt.xlabel('$x$')\n",
    "plt.legend()"
   ]
  },
  {
   "cell_type": "markdown",
   "metadata": {},
   "source": [
    "## Для значения 10 генерируем 1000 выборок и строим гистограммы распределения их выборочных средних"
   ]
  },
  {
   "cell_type": "markdown",
   "metadata": {},
   "source": [
    "#### Задаём начальные значения"
   ]
  },
  {
   "cell_type": "code",
   "execution_count": 77,
   "metadata": {
    "collapsed": false
   },
   "outputs": [],
   "source": [
    "pareto_list = []\n",
    "value = 10"
   ]
  },
  {
   "cell_type": "markdown",
   "metadata": {},
   "source": [
    "#### В цикле формируем 1000 выборок объёма 7 и формируем список выборочных средних"
   ]
  },
  {
   "cell_type": "code",
   "execution_count": 78,
   "metadata": {
    "collapsed": false
   },
   "outputs": [],
   "source": [
    "for i in range(1,1001):\n",
    "     sample = pareto_rv.rvs(value) # формируем вборку объёма 10\n",
    "     mid = sum(sample)/len(sample) # рассчитываем выборочное среднее\n",
    "     pareto_list.append(mid)       # добавляем выборочное среднее в список"
   ]
  },
  {
   "cell_type": "markdown",
   "metadata": {},
   "source": [
    "#### Рассчитываем параметры нормального распределения, аппроксимирующее распределение выборочных средних"
   ]
  },
  {
   "cell_type": "code",
   "execution_count": 79,
   "metadata": {
    "collapsed": true
   },
   "outputs": [],
   "source": [
    "# мю - математическое ожидание распределения Парето: k/(k-1)\n",
    "mu = float(k)/float(k-1)"
   ]
  },
  {
   "cell_type": "code",
   "execution_count": 80,
   "metadata": {
    "collapsed": true
   },
   "outputs": [],
   "source": [
    "# cигма - квадратный корень из дисперсии распределения Парето: (1/(k-1))**2 * k/(k-2); делим его на 5 - объём выборки\n",
    "sigma = math.sqrt(((1/float(k-1))**2)*(float(k)/float(k-2))/float(value)) # cигма - квадратный корень из дисперсии"
   ]
  },
  {
   "cell_type": "code",
   "execution_count": 81,
   "metadata": {
    "collapsed": false
   },
   "outputs": [
    {
     "name": "stdout",
     "output_type": "stream",
     "text": [
      "1.11111111111\n",
      "0.0392837100659\n"
     ]
    }
   ],
   "source": [
    "print mu\n",
    "print sigma"
   ]
  },
  {
   "cell_type": "markdown",
   "metadata": {},
   "source": [
    "#### Строим гистограмму распределения выборочных средних и плотность аппроксимирующего нормального распределения"
   ]
  },
  {
   "cell_type": "code",
   "execution_count": 82,
   "metadata": {
    "collapsed": false
   },
   "outputs": [
    {
     "data": {
      "text/plain": [
       "<matplotlib.legend.Legend at 0xc9e3780>"
      ]
     },
     "execution_count": 82,
     "metadata": {},
     "output_type": "execute_result"
    },
    {
     "data": {
      "image/png": "[encoded data removed]",
      "text/plain": [
       "<matplotlib.figure.Figure at 0xcd8bba8>"
      ]
     },
     "metadata": {},
     "output_type": "display_data"
    }
   ],
   "source": [
    "norm_rv = sts.norm(loc=mu, scale=sigma)\n",
    "x = np.linspace(0,3,100)\n",
    "pdf = norm_rv.pdf(x)\n",
    "plt.plot(x, pdf, label = 'Theoretical Pareto')\n",
    "plt.hist(pareto_list, normed = True, label = 'Histogram')\n",
    "plt.ylabel('$f(x)$')\n",
    "plt.xlabel('$x$')\n",
    "plt.legend()"
   ]
  },
  {
   "cell_type": "markdown",
   "metadata": {},
   "source": [
    "## Для значения 20 генерируем 1000 выборок и строим гистограммы распределения их выборочных средних"
   ]
  },
  {
   "cell_type": "markdown",
   "metadata": {},
   "source": [
    "#### Задаём начальные значения"
   ]
  },
  {
   "cell_type": "code",
   "execution_count": 83,
   "metadata": {
    "collapsed": false
   },
   "outputs": [],
   "source": [
    "pareto_list = []\n",
    "value = 20"
   ]
  },
  {
   "cell_type": "markdown",
   "metadata": {},
   "source": [
    "#### В цикле формируем 1000 выборок объёма 7 и формируем список выборочных средних"
   ]
  },
  {
   "cell_type": "code",
   "execution_count": 84,
   "metadata": {
    "collapsed": false
   },
   "outputs": [],
   "source": [
    "for i in range(1,1001):\n",
    "     sample = pareto_rv.rvs(value) # формируем вборку объёма 20\n",
    "     mid = sum(sample)/len(sample) # рассчитываем выборочное среднее\n",
    "     pareto_list.append(mid)       # добавляем выборочное среднее в список"
   ]
  },
  {
   "cell_type": "markdown",
   "metadata": {},
   "source": [
    "#### Рассчитываем параметры нормального распределения, аппроксимирующее распределение выборочных средних"
   ]
  },
  {
   "cell_type": "code",
   "execution_count": 85,
   "metadata": {
    "collapsed": true
   },
   "outputs": [],
   "source": [
    "# мю - математическое ожидание распределения Парето: k/(k-1)\n",
    "mu = float(k)/float(k-1)"
   ]
  },
  {
   "cell_type": "code",
   "execution_count": 86,
   "metadata": {
    "collapsed": true
   },
   "outputs": [],
   "source": [
    "# cигма - квадратный корень из дисперсии распределения Парето: (1/(k-1))**2 * k/(k-2); делим его на 5 - объём выборки\n",
    "sigma = math.sqrt(((1/float(k-1))**2)*(float(k)/float(k-2))/float(value)) # cигма - квадратный корень из дисперсии"
   ]
  },
  {
   "cell_type": "code",
   "execution_count": 87,
   "metadata": {
    "collapsed": false
   },
   "outputs": [
    {
     "name": "stdout",
     "output_type": "stream",
     "text": [
      "1.11111111111\n",
      "0.0277777777778\n"
     ]
    }
   ],
   "source": [
    "print mu\n",
    "print sigma"
   ]
  },
  {
   "cell_type": "markdown",
   "metadata": {},
   "source": [
    "#### Строим гистограмму распределения выборочных средних и плотность аппроксимирующего нормального распределения"
   ]
  },
  {
   "cell_type": "code",
   "execution_count": 88,
   "metadata": {
    "collapsed": false
   },
   "outputs": [
    {
     "data": {
      "text/plain": [
       "<matplotlib.legend.Legend at 0xa27ffd0>"
      ]
     },
     "execution_count": 88,
     "metadata": {},
     "output_type": "execute_result"
    },
    {
     "data": {
      "image/png": "[encoded data removed]",
      "text/plain": [
       "<matplotlib.figure.Figure at 0xcd99cc0>"
      ]
     },
     "metadata": {},
     "output_type": "display_data"
    }
   ],
   "source": [
    "norm_rv = sts.norm(loc=mu, scale=sigma)\n",
    "x = np.linspace(0,3,100)\n",
    "pdf = norm_rv.pdf(x)\n",
    "plt.plot(x, pdf, label = 'Theoretical Pareto')\n",
    "plt.hist(pareto_list, normed = True, label = 'Histogram')\n",
    "plt.ylabel('$f(x)$')\n",
    "plt.xlabel('$x$')\n",
    "plt.legend()"
   ]
  },
  {
   "cell_type": "markdown",
   "metadata": {},
   "source": [
    "## Для значения 50 генерируем 1000 выборок и строим гистограммы распределения их выборочных средних"
   ]
  },
  {
   "cell_type": "markdown",
   "metadata": {},
   "source": [
    "#### Задаём начальные значения"
   ]
  },
  {
   "cell_type": "code",
   "execution_count": 89,
   "metadata": {
    "collapsed": false
   },
   "outputs": [],
   "source": [
    "pareto_list = []\n",
    "value = 50"
   ]
  },
  {
   "cell_type": "markdown",
   "metadata": {},
   "source": [
    "#### В цикле формируем 1000 выборок объёма 7 и формируем список выборочных средних"
   ]
  },
  {
   "cell_type": "code",
   "execution_count": 90,
   "metadata": {
    "collapsed": false
   },
   "outputs": [],
   "source": [
    "for i in range(1,1001):\n",
    "     sample = pareto_rv.rvs(value) # формируем вборку объёма 50\n",
    "     mid = sum(sample)/len(sample) # рассчитываем выборочное среднее\n",
    "     pareto_list.append(mid)       # добавляем выборочное среднее в список"
   ]
  },
  {
   "cell_type": "markdown",
   "metadata": {},
   "source": [
    "#### Рассчитываем параметры нормального распределения, аппроксимирующее распределение выборочных средних"
   ]
  },
  {
   "cell_type": "code",
   "execution_count": 91,
   "metadata": {
    "collapsed": true
   },
   "outputs": [],
   "source": [
    "# мю - математическое ожидание распределения Парето: k/(k-1)\n",
    "mu = float(k)/float(k-1)"
   ]
  },
  {
   "cell_type": "code",
   "execution_count": 92,
   "metadata": {
    "collapsed": true
   },
   "outputs": [],
   "source": [
    "# cигма - квадратный корень из дисперсии распределения Парето: (1/(k-1))**2 * k/(k-2); делим его на 5 - объём выборки\n",
    "sigma = math.sqrt(((1/float(k-1))**2)*(float(k)/float(k-2))/float(value)) # cигма - квадратный корень из дисперсии"
   ]
  },
  {
   "cell_type": "code",
   "execution_count": 93,
   "metadata": {
    "collapsed": false
   },
   "outputs": [
    {
     "name": "stdout",
     "output_type": "stream",
     "text": [
      "1.11111111111\n",
      "0.0175682092232\n"
     ]
    }
   ],
   "source": [
    "print mu\n",
    "print sigma"
   ]
  },
  {
   "cell_type": "markdown",
   "metadata": {},
   "source": [
    "#### Строим гистограмму распределения выборочных средних и плотность аппроксимирующего нормального распределения"
   ]
  },
  {
   "cell_type": "code",
   "execution_count": 94,
   "metadata": {
    "collapsed": false
   },
   "outputs": [
    {
     "data": {
      "text/plain": [
       "<matplotlib.legend.Legend at 0xd0b4860>"
      ]
     },
     "execution_count": 94,
     "metadata": {},
     "output_type": "execute_result"
    },
    {
     "data": {
      "image/png": "[encoded data removed]",
      "text/plain": [
       "<matplotlib.figure.Figure at 0xd4c0470>"
      ]
     },
     "metadata": {},
     "output_type": "display_data"
    }
   ],
   "source": [
    "norm_rv = sts.norm(loc=mu, scale=sigma)\n",
    "x = np.linspace(0,3,100)\n",
    "pdf = norm_rv.pdf(x)\n",
    "plt.plot(x, pdf, label = 'Theoretical Pareto')\n",
    "plt.hist(pareto_list, normed = True, label = 'Histogram')\n",
    "plt.ylabel('$f(x)$')\n",
    "plt.xlabel('$x$')\n",
    "plt.legend()"
   ]
  },
  {
   "cell_type": "markdown",
   "metadata": {},
   "source": [
    "## Выводы"
   ]
  },
  {
   "cell_type": "markdown",
   "metadata": {},
   "source": [
    "Построенные графики показывают, что точность аппроксимации нормальным распределением выборочного среднего \n",
    "для распределения Парето не сильно меняется при изменении объёма выборки n.\n",
    "Для всех четырёх выбранных значений n (значения 5, 10, 20, 50) график плотности вероятности аппроксимирующего \n",
    "нормального распределения достаточно плотно огибает гистограмму распределения выборочных средних."
   ]
  }
 ],
 "metadata": {
  "kernelspec": {
   "display_name": "Python 2",
   "language": "python",
   "name": "python2"
  },
  "language_info": {
   "codemirror_mode": {
    "name": "ipython",
    "version": 2
   },
   "file_extension": ".py",
   "mimetype": "text/x-python",
   "name": "python",
   "nbconvert_exporter": "python",
   "pygments_lexer": "ipython2",
   "version": "2.7.11"
  }
 },
 "nbformat": 4,
 "nbformat_minor": 0
}
