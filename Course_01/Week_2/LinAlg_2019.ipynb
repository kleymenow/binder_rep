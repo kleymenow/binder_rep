{
 "cells": [
  {
   "cell_type": "markdown",
   "metadata": {},
   "source": [
    "Этот файл создан 16.01.2019. Здесь я повторяю решение задачи, над которой бился целый день 05.03.2017."
   ]
  },
  {
   "cell_type": "markdown",
   "metadata": {},
   "source": [
    "### Пункт 1. Анализ текста с предложениями на английском языке (файл sentences.txt)"
   ]
  },
  {
   "cell_type": "markdown",
   "metadata": {},
   "source": [
    "#### Подпункт 1.1. Скачайте файл с предложениями (sentences.txt)"
   ]
  },
  {
   "cell_type": "code",
   "execution_count": 1,
   "metadata": {
    "collapsed": false
   },
   "outputs": [],
   "source": [
    "import numpy as np\n",
    "import scipy as sp\n",
    "import re\n",
    "from scipy import spatial\n",
    "from scipy.spatial.distance import cosine"
   ]
  },
  {
   "cell_type": "code",
   "execution_count": 22,
   "metadata": {
    "collapsed": true
   },
   "outputs": [],
   "source": [
    "file_obj = open('sentences.txt')"
   ]
  },
  {
   "cell_type": "markdown",
   "metadata": {},
   "source": [
    "#### Подпункт 1.2. Каждая строка в файле соответствует одному предложению. Считайте их, приведите каждую к нижнему регистру с помощью строковой функции lower()."
   ]
  },
  {
   "cell_type": "code",
   "execution_count": 23,
   "metadata": {
    "collapsed": true
   },
   "outputs": [],
   "source": [
    "lines_list = list(file_obj)"
   ]
  },
  {
   "cell_type": "code",
   "execution_count": 24,
   "metadata": {
    "collapsed": false
   },
   "outputs": [],
   "source": [
    "for i in range(len(lines_list)):\n",
    "    lines_list[i] = lines_list[i].strip()\n",
    "    lines_list[i] = lines_list[i].lower()\n",
    "    #print lines_list[i]"
   ]
  },
  {
   "cell_type": "markdown",
   "metadata": {},
   "source": [
    "#### Подпункт 1.3. Произведите токенизацию, то есть разбиение текстов на слова. Для этого можно воспользоваться регулярным выражением, которое считает разделителем любой символ, не являющийся буквой: re.split('[^a-z]', t). Не забудьте удалить пустые слова после разделения."
   ]
  },
  {
   "cell_type": "markdown",
   "metadata": {},
   "source": [
    "Комментарий 19.10.2019: из текста этого пункта непонятно, как нужно разбивать: каждое предложение в отдельности или весь текст целиком; т.е. непонятно, какая струтура должна получиться в результате. А задача была поставлена такая: должен получиться список неуникальных слов, из которых состоит весь текст (все предложения, из которых состоит текст)."
   ]
  },
  {
   "cell_type": "code",
   "execution_count": 25,
   "metadata": {
    "collapsed": false
   },
   "outputs": [],
   "source": [
    "words_list = re.split('[^a-z]', ' '.join(lines_list))"
   ]
  },
  {
   "cell_type": "code",
   "execution_count": 26,
   "metadata": {
    "collapsed": true
   },
   "outputs": [],
   "source": [
    "# См. комментарии здесь:\n",
    "# https://docs.python.org/2/library/functions.html#filter\n",
    "#\n",
    "# Цитата: \n",
    "# Note that filter(function, iterable) is equivalent to [item for item in iterable if function(item)] if function is not None \n",
    "# and [item for item in iterable if item] if function is None.\n",
    "#\n",
    "words_list = list(filter(None, words_list))"
   ]
  },
  {
   "cell_type": "markdown",
   "metadata": {},
   "source": [
    "#### Подпункт 1.4. Составьте список всех слов, встречающихся в предложениях. Сопоставьте каждому слову индекс от нуля до (d - 1), где d — число различных слов в предложениях. Для этого удобно воспользоваться структурой dict."
   ]
  },
  {
   "cell_type": "code",
   "execution_count": 27,
   "metadata": {
    "collapsed": false
   },
   "outputs": [],
   "source": [
    "# Функция set() превращает свой аргумент в множество set.\n",
    "# См. здесь:\n",
    "# http://qaru.site/questions/170148/understanding-the-set-function\n",
    "# Множество (set) - это список (list), в котором нет дублиатов.\n",
    "\n",
    "f = set(words_list) # убираем дубликаты\n",
    "words_list_without_rep = list(f) # снова преобразуем в список"
   ]
  },
  {
   "cell_type": "code",
   "execution_count": 28,
   "metadata": {
    "collapsed": true
   },
   "outputs": [],
   "source": [
    "word_dict = dict()"
   ]
  },
  {
   "cell_type": "code",
   "execution_count": 29,
   "metadata": {
    "collapsed": false
   },
   "outputs": [
    {
     "name": "stdout",
     "output_type": "stream",
     "text": [
      "third\n",
      "second\n",
      "blabla\n",
      "fourth\n",
      "bla\n",
      "fifth\n",
      "first\n"
     ]
    }
   ],
   "source": [
    "for line in words_list_without_rep:\n",
    "    print line\n",
    "    word_dict[line] = words_list.count(line)"
   ]
  },
  {
   "cell_type": "code",
   "execution_count": 30,
   "metadata": {
    "collapsed": false
   },
   "outputs": [
    {
     "name": "stdout",
     "output_type": "stream",
     "text": [
      "{'third': 4, 'second': 5, 'blabla': 1, 'fourth': 5, 'bla': 1, 'fifth': 3, 'first': 4}\n"
     ]
    }
   ],
   "source": [
    "print word_dict"
   ]
  },
  {
   "cell_type": "markdown",
   "metadata": {
    "collapsed": true
   },
   "source": [
    "#### Подпункт 1.5. Создайте матрицу размера n x d, где n — число предложений. Заполните её: элемент с индексом (i, j) в этой матрице должен быть равен количеству вхождений j-го слова в i-е предложение. У вас должна получиться матрица размера 22 * 254"
   ]
  },
  {
   "cell_type": "code",
   "execution_count": 31,
   "metadata": {
    "collapsed": true
   },
   "outputs": [],
   "source": [
    "# Функция zeros() возвращает новый массив указанной формы и типа, заполненный нулями\n",
    "a = np.zeros((len(lines_list), len(words_list_without_rep)))"
   ]
  },
  {
   "cell_type": "code",
   "execution_count": 32,
   "metadata": {
    "collapsed": false
   },
   "outputs": [],
   "source": [
    "# re.split возвращает список строк - слов\n",
    "# метод count возвращает количество вхождений параметра в список\n",
    "for i in range(len(lines_list)):\n",
    "   words_list_in_line = re.split('[^a-z]', lines_list[i]) \n",
    "\n",
    "   for j in range(len(words_list_without_rep)):\n",
    "      a[i][j] = words_list_in_line.count(words_list_without_rep[j])\n",
    "    \n",
    "# Комментарий 08.10.2019:\n",
    "# При повторении этого задания я допустил ошибку: пропустил присваивание:\n",
    "#    words_list_in_line = re.split('[^a-z]', lines_list[i])\n",
    "# и вместо выражения\n",
    "#    words_list_in_line.count(words_list_without_rep[j]) \n",
    "# использовал просто \n",
    "#    lines_list[i].count(words_list_without_rep[j])\n",
    "#\n",
    "# Т.е. предложение lines_list[i] не было разбито на слова, это предложение так и осталось единой строкой.\n",
    "#\n",
    "# В результате проводился не подсчёт количества упоминаний отдельных слов в предложениях, а подсчёт количества упоминаний \n",
    "# набора символов (без отличия в том, является ли этот набор символов отдельным словом, или не является).\n",
    "\n",
    "#\n",
    "# Например, для предложения \"in comparison to dogs, cats have not undergone major changes during the domestication process.\"\n",
    "# количество упоминаний слова \"on\" рассчиталось равным 3 (трём), тогда как должно быть 0 (ноль), т.к. ни одного слова \"on\" \n",
    "# в этом предложении нет."
   ]
  },
  {
   "cell_type": "code",
   "execution_count": null,
   "metadata": {
    "collapsed": true
   },
   "outputs": [],
   "source": [
    "# Заготовка для вывода в файл массива a:\n",
    "#string_all = ''\n",
    "\n",
    "#for k in range(len(lines_list)):\n",
    "#    string_all = string_all + ';' + lines_list[k]\n",
    "\n",
    "#for i in range(len(words_list_without_rep)):\n",
    "#    string_all = string_all + '\\n' + words_list_without_rep[i]\n",
    "#    for j in range(len(lines_list)):\n",
    "#        string_all = string_all + ';' + str(a[j][i])        \n",
    "\n",
    "#with open('result_a.csv', 'w') as result_a_file:\n",
    "#    result_a_file.write(string_all)        "
   ]
  },
  {
   "cell_type": "code",
   "execution_count": 33,
   "metadata": {
    "collapsed": false
   },
   "outputs": [
    {
     "name": "stdout",
     "output_type": "stream",
     "text": [
      "[[ 1.  1.  0.  1.  0.  1.  1.]\n",
      " [ 1.  1.  0.  1.  0.  1.  1.]\n",
      " [ 0.  1.  1.  0.  1.  0.  0.]\n",
      " [ 1.  1.  0.  1.  0.  1.  1.]\n",
      " [ 1.  1.  0.  2.  0.  0.  1.]]\n"
     ]
    }
   ],
   "source": [
    "print a"
   ]
  },
  {
   "cell_type": "markdown",
   "metadata": {},
   "source": [
    "#### Подпункт 1.6. Найдите косинусное расстояние от предложения в самой первой строке (In comparison to dogs, cats have not undergone...) до всех остальных с помощью функции scipy.spatial.distance.cosine. Какие номера у двух предложений, ближайших к нему по этому расстоянию (строки нумеруются с нуля)? Эти два числа и будут ответами на задание."
   ]
  },
  {
   "cell_type": "code",
   "execution_count": 44,
   "metadata": {
    "collapsed": false
   },
   "outputs": [],
   "source": [
    "# Необходимо отметить 2 важных момента:\n",
    "\n",
    "# 1. Особенности функции cosine().\n",
    "#    Аргументами функции scipy.spatial.distance.cosine должны быть массивы (array_like), состоящие из чисел.\n",
    "#    Если передать функции массивы, состоящие из строк, то будет ошибка: \n",
    "#    \"ValueError: data type must provide an itemsize\"\n",
    "#    Т.е. получается, что реально мы сраниваем не сами строки (предложения), \n",
    "#    а наборы чисел - количеств вхождений каждого слова в текущее предложение.\n",
    "#\n",
    "# 2. Как правильно отсортировать результаты, чтобы понять, какие два предложения самие близкие к первой строке?\n",
    "#    Нужно сформировать словарь, в котором ключами будут номера предложений, а значениями - косинусные расстояния \n",
    "#    до первого предложения. Потом отсортировать этот словарь по значениям (а не по ключам!). Это можно сделать с помощью \n",
    "#    функции sorted, если использовать operator.itemgetter (см. код ниже).\n",
    "\n",
    "# Кстати:\n",
    "# Aункция scipy.spatial.distance.cosine почему-то вычисляет не косинус, а 1 - косинус. \n",
    "# Т.е. чем ближе значение  нулю, тем ближе строки. \n",
    "# И наоборот: чем ближе значение к единице, тем дальше друг от друга строки.\n",
    "\n",
    "# words_list_in_line_0 = np.array(re.split('[^a-z]', lines_list[0])) # это не работает: нужно сравнивать не строки, а числа\n",
    "words_list_in_line_0 = a[0] # берём числа - количества вхождений каждого слова в первое предложение\n",
    "\n",
    "res = dict()\n",
    "\n",
    "for i in range(len(lines_list)):\n",
    "    #words_list_in_line = np.array(re.split('[^a-z]', lines_list[i])) # это не работает: нужно сравнивать не строки, а числа\n",
    "    words_list_in_line = a[i]    # берём числа - количества вхождений каждого слова в текущее предложение\n",
    "    #res[i] = sp.spatial.distance.cosine(words_list_in_line_0, words_list_in_line)\n",
    "    res[lines_list[i]] = sp.spatial.distance.cosine(words_list_in_line_0, words_list_in_line)"
   ]
  },
  {
   "cell_type": "code",
   "execution_count": 45,
   "metadata": {
    "collapsed": false
   },
   "outputs": [
    {
     "data": {
      "text/plain": [
       "{'bla blabla second.': 0.7418011102528389,\n",
       " 'first second third fourth fifth.': 2.2204460492503131e-16,\n",
       " 'fourth fourth third second first.': 0.15484574527148354,\n",
       " 'second first fifth third fourth.': 2.2204460492503131e-16}"
      ]
     },
     "execution_count": 45,
     "metadata": {},
     "output_type": "execute_result"
    }
   ],
   "source": [
    "res"
   ]
  },
  {
   "cell_type": "code",
   "execution_count": null,
   "metadata": {
    "collapsed": true
   },
   "outputs": [],
   "source": [
    "# Комментарий 08.10.2019:\n",
    "# Заготовка для вывода в файл словаря с результатом:\n",
    "# with open('result_dict.csv', 'w') as result_dict_file:\n",
    "#    result_dict_file.writelines(res[0] + ';' + str(res[1]) + ';\\n' for res in result_dict.items())"
   ]
  },
  {
   "cell_type": "code",
   "execution_count": 42,
   "metadata": {
    "collapsed": false
   },
   "outputs": [],
   "source": [
    "# Теперь сортируем этот словарь по значениям (а не по ключам!)\n",
    "import operator\n",
    "sorted_res = sorted(res.items(), key = operator.itemgetter(1))"
   ]
  },
  {
   "cell_type": "code",
   "execution_count": 36,
   "metadata": {
    "collapsed": false
   },
   "outputs": [
    {
     "name": "stdout",
     "output_type": "stream",
     "text": [
      "<type 'list'>\n",
      "<type 'dict'>\n"
     ]
    }
   ],
   "source": [
    "# При этом почему-то словарь res превратился в список sorted_res:\n",
    "print type(sorted_res)\n",
    "print type(res)"
   ]
  },
  {
   "cell_type": "code",
   "execution_count": 43,
   "metadata": {
    "collapsed": false
   },
   "outputs": [
    {
     "data": {
      "text/plain": [
       "[(0, 2.2204460492503131e-16),\n",
       " (1, 2.2204460492503131e-16),\n",
       " (3, 2.2204460492503131e-16),\n",
       " (4, 0.15484574527148354),\n",
       " (2, 0.7418011102528389)]"
      ]
     },
     "execution_count": 43,
     "metadata": {},
     "output_type": "execute_result"
    }
   ],
   "source": [
    "# Выводим отсортированный по значениям (а не по ключам!) список.\n",
    "# 1-й элемент (индекс = 0) соответствует предложению, с которым производится сравнение (поэтому расстояние = 0).\n",
    "# 2-й элемент (индекс = 6) и 3-й элемент (индекс = 4) - это предложения с наименьшим расстоянием до предложения, \n",
    "# с которым производится сравнение.\n",
    "sorted_res"
   ]
  },
  {
   "cell_type": "markdown",
   "metadata": {},
   "source": [
    "#### Общее замечание для пункта 1:"
   ]
  },
  {
   "cell_type": "markdown",
   "metadata": {},
   "source": [
    "При вычислении косинусного расстояния в данной задаче используется количество вхождений каждого слова в каждое предложение. Т.е. каждому предложению соответствует один одномерный вектор, элементы которого - это числа, каждое из которых равно количеству вхождений соответствующего слова в это предложение. Если в этом предложении такого слова нет, то такому слову будет соответствовать число 0 (ноль).\n",
    "При таком подходе, например, такие предложения будут иметь одинаковые косинусные расстояния от первого предложения:\n",
    "\n",
    "Я пойду гулять.\n",
    "Пойду я гулять.\n",
    "Гулять я пойду.\n",
    "\n",
    "Хотя более точным будет другой подход: нужно использовать не одно число (количество вхождений каждого слова), а кортеж (перечень порядковых номеров мест, на которых данное слово находится  данном предложении). Если данное слово не встречается в данном предложении, то кортеж будет состоять из одного элемента равного нулю.\n",
    "\n",
    "Аргументами функции scipy.spatial.distance.cosine должны быть не списки чисел, а списки таких кортежей.\n",
    "\n",
    "Но если заменить аргументы функции scipy.spatial.distance.cosine - списки чисел (words_list_in_line_0 и words_list_in_line) на списки кортежей, то будет ошибка:\n",
    "\n",
    "list_of_tuples_1 = [ (1, 1), (1, 1), (1, 1), (1, 1), (1, 1)]\n",
    "list_of_tuples_2 = [ (2, 2), (2, 2), (1, 1), (1, 1), (1, 1)]\n",
    "res = sp.spatial.distance.cosine(list_of_tuples_1, list_of_tuples_2)\n",
    "\n",
    "ValueError: Input vector should be 1-D.\n",
    "\n",
    "\n",
    "Надо пробовать какую-то другую реализацию или использовать другие функции вычисления расстояния."
   ]
  },
  {
   "cell_type": "markdown",
   "metadata": {},
   "source": [
    "#### P.S. для пункта №1"
   ]
  },
  {
   "cell_type": "markdown",
   "metadata": {},
   "source": [
    "Решение, которым воспользовался я 05.03.2017 взято отсюда:\n",
    "http://www.cyberforum.ru/python-science/thread1853010.html\n",
    "\n",
    "Человек, который привёл это решение, не знал о существовании функции scipy.spatial.distance.cosine.\n",
    "Он написал свою функцию, в которой косинусное расстояние вычисляется так:\n",
    "\n",
    "def cosine_distance(u, v):\n",
    "    return 1.0 - (dot(u, v) / (norm(u) * norm(v)))\n",
    "    \n",
    "Функция numpy.dot - это вычисление скалярного произведения (по-английски \"dot product\" или \"inner product\").\n",
    "\n",
    "Функция numpy.linalg.norm - это вычисление нормы вектора или матрицы."
   ]
  },
  {
   "cell_type": "markdown",
   "metadata": {},
   "source": [
    "#### P.S.S. для пункта №1"
   ]
  },
  {
   "cell_type": "markdown",
   "metadata": {},
   "source": [
    "Есть альтернативный вариант решения, гораздо более лаконичный. Но в этом варианте не используется spatial.distance.cosine."
   ]
  },
  {
   "cell_type": "code",
   "execution_count": null,
   "metadata": {
    "collapsed": true
   },
   "outputs": [],
   "source": [
    "# Альтернативный вариант решения. Это взято отсюда:\n",
    "# https://github.com/sknsht/machine-learning-data-analysis/blob/master/mathematics-and-python/W2/HW/programming_assignment.ipynb\n",
    "\n",
    "cosine_distances = [(i, cosine(bow[0], bow[i])) for i in range(len(sentences))]\n",
    "\n",
    "sorted_distances = sorted(distances, key=lambda tup: tup[1])\n",
    "\n",
    "# два предложения, ближайших к первому по косинусному расстоянию\n",
    "print sorted_distances[1][0], sorted_distances[2][0]\n",
    "\n",
    "\n",
    "#\n",
    "# Ещё вот это надо посмотреть:\n",
    "# http://qaru.site/questions/5918952/calculating-cosine-distance-between-the-rows-of-matrix\n"
   ]
  },
  {
   "cell_type": "markdown",
   "metadata": {},
   "source": [
    "### Пункт 2."
   ]
  },
  {
   "cell_type": "markdown",
   "metadata": {},
   "source": [
    "Рассмотрим сложную математическую функцию на отрезке [1, 15]:\n",
    "\n",
    "f(x) = sin(x / 5) * exp(x / 10) + 5 * exp(-x / 2)\n",
    "\n",
    "Она может описывать, например, зависимость оценок, которые выставляют определенному сорту вина эксперты, в зависимости от возраста этого вина. По сути, задача машинного обучения состоит в том, чтобы приблизить сложную зависимость с помощью функции из определенного семейства. В этом задании мы будем приближать указанную функцию с помощью многочленов.\n",
    "\n",
    "Как известно, многочлен степени n (то есть w_0 + w_1 x + w_2 x^2 + ... + w_n x^n) однозначно определяется любыми n + 1 различными точками, через которые он проходит. Это значит, что его коэффициенты w_0, ... w_n можно определить из следующей системы линейных уравнений (см. скрин в файле \n",
    "01_Математика и Python для анализа данных\\Week_2\\Материалы_лекций\\3_Линейная_алгебра_Матрицы\\Задание_по_программированию\\Задание_по_программированию_НЕДОСТУПНО.docx)\n",
    "\n",
    "где через x_1, ..., x_n, x_{n+1} обозначены точки, через которые проходит многочлен, а через f(x_1), ..., f(x_n), f(x_{n+1}) — значения, которые он должен принимать в этих точках.\n",
    "\n",
    "Воспользуемся описанным свойством, и будем находить приближение функции многочленом, решая систему линейных уравнений.\n"
   ]
  },
  {
   "cell_type": "markdown",
   "metadata": {},
   "source": [
    "#### Подпункт 2.1. Сформируйте систему линейных уравнений (то есть задайте матрицу коэффициентов A и свободный вектор b) для многочлена первой степени, который должен совпадать с функцией f в точках 1 и 15. Решите данную систему с помощью функции scipy.linalg.solve. Нарисуйте функцию f и полученный многочлен. Хорошо ли он приближает исходную функцию?"
   ]
  },
  {
   "cell_type": "markdown",
   "metadata": {},
   "source": [
    "Массив x - это коэффииенты w0, w1."
   ]
  },
  {
   "cell_type": "markdown",
   "metadata": {},
   "source": [
    "Комментарий от 10.10.2019: наконец-то полностью дописал решение для Пункта 2 (до этого момента был описан только подпункт 2.1)."
   ]
  },
  {
   "cell_type": "code",
   "execution_count": 1,
   "metadata": {
    "collapsed": true
   },
   "outputs": [],
   "source": [
    "import numpy as np\n",
    "from numpy import arange, sin, exp"
   ]
  },
  {
   "cell_type": "code",
   "execution_count": 12,
   "metadata": {
    "collapsed": true
   },
   "outputs": [],
   "source": [
    "# Это необязательно, ведь для вызова linalg.solve можно использовать numpy\n",
    "import scipy as sp\n",
    "from scipy import linalg"
   ]
  },
  {
   "cell_type": "code",
   "execution_count": 2,
   "metadata": {
    "collapsed": false
   },
   "outputs": [],
   "source": [
    "# Можно использовать как numpy.linalg.solve, так и scipy.linalg.solve. Чем они отличаются - непонятно.\n",
    "a = np.array([[1, 1], [1, 15]])\n",
    "b = np.array([3.2522, 0.6352])\n",
    "x = np.linalg.solve(a, b)"
   ]
  },
  {
   "cell_type": "code",
   "execution_count": 3,
   "metadata": {
    "collapsed": false
   },
   "outputs": [
    {
     "name": "stdout",
     "output_type": "stream",
     "text": [
      "Матрица A:\n",
      "[[ 1  1]\n",
      " [ 1 15]]\n",
      "Вектор b:\n",
      "[ 3.2522  0.6352]\n",
      "Решение системы:\n",
      "[ 3.43912857 -0.18692857]\n"
     ]
    }
   ],
   "source": [
    "print \"Матрица A:\\n\", a\n",
    "print \"Вектор b:\\n\", b\n",
    "print \"Решение системы:\\n\", x"
   ]
  },
  {
   "cell_type": "code",
   "execution_count": null,
   "metadata": {
    "collapsed": true
   },
   "outputs": [],
   "source": [
    "# Рисуем функцию f:"
   ]
  },
  {
   "cell_type": "code",
   "execution_count": 4,
   "metadata": {
    "collapsed": true
   },
   "outputs": [],
   "source": [
    "%matplotlib inline"
   ]
  },
  {
   "cell_type": "code",
   "execution_count": 5,
   "metadata": {
    "collapsed": true
   },
   "outputs": [],
   "source": [
    "from matplotlib import pylab as plt"
   ]
  },
  {
   "cell_type": "code",
   "execution_count": 6,
   "metadata": {
    "collapsed": true
   },
   "outputs": [],
   "source": [
    "x = np.arange(1.0, 16, 0.01)"
   ]
  },
  {
   "cell_type": "code",
   "execution_count": 7,
   "metadata": {
    "collapsed": false
   },
   "outputs": [
    {
     "data": {
      "text/plain": [
       "[<matplotlib.lines.Line2D at 0x6d58160>]"
      ]
     },
     "execution_count": 7,
     "metadata": {},
     "output_type": "execute_result"
    },
    {
     "data": {
      "image/png": "[encoded data removed]",
      "text/plain": [
       "<matplotlib.figure.Figure at 0x3fc04a8>"
      ]
     },
     "metadata": {},
     "output_type": "display_data"
    }
   ],
   "source": [
    "plt.plot(x, sin(x / 5) * exp(x / 10) + 5 * exp(-x / 2))"
   ]
  },
  {
   "cell_type": "code",
   "execution_count": 8,
   "metadata": {
    "collapsed": false
   },
   "outputs": [
    {
     "data": {
      "text/plain": [
       "[<matplotlib.lines.Line2D at 0x6f89358>]"
      ]
     },
     "execution_count": 8,
     "metadata": {},
     "output_type": "execute_result"
    },
    {
     "data": {
      "image/png": "[encoded data removed]",
      "text/plain": [
       "<matplotlib.figure.Figure at 0x6b752e8>"
      ]
     },
     "metadata": {},
     "output_type": "display_data"
    }
   ],
   "source": [
    "plt.plot(x, 3.43912857-0.18692857*x )"
   ]
  },
  {
   "cell_type": "markdown",
   "metadata": {
    "collapsed": true
   },
   "source": [
    "#### Подпункт 2.2. Повторите те же шаги для многочлена второй степени, который совпадает с функцией f в точках 1, 8 и 15. Улучшилось ли качество аппроксимации?"
   ]
  },
  {
   "cell_type": "code",
   "execution_count": 39,
   "metadata": {
    "collapsed": false
   },
   "outputs": [
    {
     "name": "stdout",
     "output_type": "stream",
     "text": [
      "Матрица A:\n",
      "[[  1   1   1]\n",
      " [  1   8  64]\n",
      " [  1  15 225]]\n",
      "Вектор b:\n",
      "[ 3.252217  2.31617   0.635221]\n",
      "Решение системы:\n",
      "[ 3.32512967 -0.06531163 -0.00760104]\n"
     ]
    }
   ],
   "source": [
    "a = np.array([[1, 1, 1], [1, 8, 64], [1, 15, 225]])\n",
    "b = np.array([3.252217, 2.31617, 0.635221])\n",
    "x = np.linalg.solve(a, b)\n",
    "\n",
    "print \"Матрица A:\\n\", a\n",
    "print \"Вектор b:\\n\", b\n",
    "print \"Решение системы:\\n\", x"
   ]
  },
  {
   "cell_type": "code",
   "execution_count": 40,
   "metadata": {
    "collapsed": true
   },
   "outputs": [],
   "source": [
    "x = np.arange(1.0, 16, 0.01)"
   ]
  },
  {
   "cell_type": "code",
   "execution_count": 41,
   "metadata": {
    "collapsed": false
   },
   "outputs": [
    {
     "data": {
      "text/plain": [
       "[<matplotlib.lines.Line2D at 0x961b358>]"
      ]
     },
     "execution_count": 41,
     "metadata": {},
     "output_type": "execute_result"
    },
    {
     "data": {
      "image/png": "[encoded data removed]",
      "text/plain": [
       "<matplotlib.figure.Figure at 0x942ada0>"
      ]
     },
     "metadata": {},
     "output_type": "display_data"
    }
   ],
   "source": [
    "plt.plot(x, 3.32512967-0.06531163*x-0.00760104*(x**2) )"
   ]
  },
  {
   "cell_type": "markdown",
   "metadata": {},
   "source": [
    "#### Подпункт 2.3. Повторите те же шаги для многочлена третьей степени, который совпадает с функцией f в точках 1, 4, 10 и 15. Хорошо ли он аппроксимирует функцию? Коэффициенты данного многочлена (четыре числа в следующем порядке: w_0, w_1, w_2, w_3) являются ответом на задачу. Округлять коэффициенты не обязательно, но при желании можете произвести округление до второго знака (т.е. до числа вида 0.42)."
   ]
  },
  {
   "cell_type": "code",
   "execution_count": null,
   "metadata": {
    "collapsed": true
   },
   "outputs": [],
   "source": []
  }
 ],
 "metadata": {
  "kernelspec": {
   "display_name": "Python 2",
   "language": "python",
   "name": "python2"
  },
  "language_info": {
   "codemirror_mode": {
    "name": "ipython",
    "version": 2
   },
   "file_extension": ".py",
   "mimetype": "text/x-python",
   "name": "python",
   "nbconvert_exporter": "python",
   "pygments_lexer": "ipython2",
   "version": "2.7.13"
  }
 },
 "nbformat": 4,
 "nbformat_minor": 0
}
