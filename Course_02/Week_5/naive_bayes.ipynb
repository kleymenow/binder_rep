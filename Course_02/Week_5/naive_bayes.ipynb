{
 "cells": [
  {
   "cell_type": "markdown",
   "metadata": {},
   "source": [
    "# Выбор семейства распределений в наивном байесе"
   ]
  },
  {
   "cell_type": "markdown",
   "metadata": {},
   "source": [
    "Загрузите датасеты digits и breast_cancer из sklearn.datasets. Выведите несколько строчек из обучающих выборок и посмотрите на признаки. С помощью sklearn.cross_validation.cross_val_score c настройками по умолчанию и вызова метода mean() у возвращаемого этой функцией numpy.ndarray, сравните качество работы наивных байесовских классификаторов на этих двух датасетах. Для сравнения предлагается использовать BernoulliNB, MultinomialNB и GaussianNB. Насколько полученные результаты согласуются с рекомендациями из лекций?"
   ]
  },
  {
   "cell_type": "code",
   "execution_count": 2,
   "metadata": {
    "collapsed": false
   },
   "outputs": [],
   "source": [
    "# kvd: решение было взято отсюда:\n",
    "# https://github.com/sknsht/machine-learning-data-analysis/blob/master/supervised-learning/W5/HW/assignment_2/naive_bayes.ipynb\n",
    "#\n",
    "# В этом решении используется cross_val_score из модуля sklearn.model_selection.\n",
    "# Проблема та же, что и в задании про бэггинг и случайный лес:\n",
    "# ...\\Week_4\\Материалы_лекций\\Задание_по_программированию\\01_Бэггинг_и_случайный_лес\\2_Результат\\bagging_random_forest_my.ipynb\n",
    "#\n",
    "# Проблема в том, что нужно использовать sklearn версии 0.18 и выше.\n",
    "#\n",
    "# У меня установлена версия sklearn 0.17.\n",
    "# Чтобы посмотреть версию, запускаем 2 строки:\n",
    "#    import sklearn\n",
    "#    sklearn.__version__\n",
    "#\n",
    "# Не удалось обновить scikit-learn этой командой:\n",
    "#    pip install -U scikit-learn\n",
    "# Чтобы обновить scikit-learn, запускаем команду в омандной строке Windows (это тоже не получилось):\n",
    "#    easy_install --upgrade scikit-learn\n",
    "#\n",
    "# У меня сработал вариант с функцией cross_val_score из sklearn.cross_validation.\n",
    "\n",
    "\n",
    "import numpy as np\n",
    "\n",
    "from sklearn.datasets import load_digits\n",
    "from sklearn.datasets import load_breast_cancer\n",
    "# from sklearn.model_selection import cross_val_score # kvd comment\n",
    "from sklearn import cross_validation # kvd\n",
    "\n",
    "from sklearn.naive_bayes import BernoulliNB, MultinomialNB, GaussianNB"
   ]
  },
  {
   "cell_type": "code",
   "execution_count": 3,
   "metadata": {
    "collapsed": true
   },
   "outputs": [],
   "source": [
    "clfs = {\n",
    "    'Bernoulli': BernoulliNB(),\n",
    "    'Multinomial': MultinomialNB(),\n",
    "    'Gaussian': GaussianNB()\n",
    "}"
   ]
  },
  {
   "cell_type": "markdown",
   "metadata": {},
   "source": [
    "# load_digits"
   ]
  },
  {
   "cell_type": "code",
   "execution_count": 4,
   "metadata": {
    "collapsed": true
   },
   "outputs": [],
   "source": [
    "digits = load_digits()\n",
    "X, y = digits.data, digits.target"
   ]
  },
  {
   "cell_type": "code",
   "execution_count": 6,
   "metadata": {
    "collapsed": false
   },
   "outputs": [
    {
     "data": {
      "text/plain": [
       "{'Bernoulli': 0.82582365077805819,\n",
       " 'Gaussian': 0.81860038035501381,\n",
       " 'Multinomial': 0.87087714897350532}"
      ]
     },
     "execution_count": 6,
     "metadata": {},
     "output_type": "execute_result"
    }
   ],
   "source": [
    "digits_scores = {}\n",
    "\n",
    "for clf in clfs:\n",
    "    # digits_scores[clf] = np.mean(cross_val_score(clfs[clf], X, y)) # kvd comment\n",
    "    digits_scores[clf] = np.mean(cross_validation.cross_val_score(clfs[clf], X, y)) # kvd\n",
    "\n",
    "digits_scores"
   ]
  },
  {
   "cell_type": "markdown",
   "metadata": {},
   "source": [
    "# breast_cancer"
   ]
  },
  {
   "cell_type": "code",
   "execution_count": 7,
   "metadata": {
    "collapsed": true
   },
   "outputs": [],
   "source": [
    "breast_cancer = load_breast_cancer()\n",
    "X, y = breast_cancer.data, breast_cancer.target"
   ]
  },
  {
   "cell_type": "code",
   "execution_count": 8,
   "metadata": {
    "collapsed": false
   },
   "outputs": [
    {
     "data": {
      "text/plain": [
       "{'Bernoulli': 0.62742040285899936,\n",
       " 'Gaussian': 0.9367492806089297,\n",
       " 'Multinomial': 0.89457904019307521}"
      ]
     },
     "execution_count": 8,
     "metadata": {},
     "output_type": "execute_result"
    }
   ],
   "source": [
    "breast_cancer_scores = {}\n",
    "\n",
    "for clf in clfs:\n",
    "    # breast_cancer_scores[clf] = np.mean(cross_val_score(clfs[clf], X, y)) # kvd comment\n",
    "    breast_cancer_scores[clf] = np.mean(cross_validation.cross_val_score(clfs[clf], X, y)) # kvd\n",
    "\n",
    "breast_cancer_scores"
   ]
  },
  {
   "cell_type": "markdown",
   "metadata": {},
   "source": [
    "Два датасета, конечно, еще не повод делать далеко идущие выводы, но при желании вы можете продолжить исследование на других выборках (например, из UCI репозитория)."
   ]
  },
  {
   "cell_type": "markdown",
   "metadata": {},
   "source": [
    "Для сдачи задания, ответьте на приведенные ниже вопросы."
   ]
  },
  {
   "cell_type": "markdown",
   "metadata": {},
   "source": [
    "# Вопрос 1"
   ]
  },
  {
   "cell_type": "markdown",
   "metadata": {},
   "source": [
    "Каким получилось максимальное качество классификации на датасете breast_cancer?"
   ]
  },
  {
   "cell_type": "code",
   "execution_count": 9,
   "metadata": {
    "collapsed": true
   },
   "outputs": [],
   "source": [
    "def write_answer_1(score):\n",
    "    with open(\"naive_bayes1.txt\", \"w\") as file_obj:\n",
    "        file_obj.write(str(score))\n",
    "        \n",
    "write_answer_1(max(breast_cancer_scores.itervalues()))"
   ]
  },
  {
   "cell_type": "markdown",
   "metadata": {},
   "source": [
    "# Вопрос 2"
   ]
  },
  {
   "cell_type": "markdown",
   "metadata": {},
   "source": [
    "Каким получилось максимальное качество классификации на датасете digits?"
   ]
  },
  {
   "cell_type": "code",
   "execution_count": 10,
   "metadata": {
    "collapsed": true
   },
   "outputs": [],
   "source": [
    "def write_answer_2(score):\n",
    "    with open(\"naive_bayes2.txt\", \"w\") as file_obj:\n",
    "        file_obj.write(str(score))\n",
    "\n",
    "write_answer_2(max(digits_scores.itervalues()))"
   ]
  },
  {
   "cell_type": "markdown",
   "metadata": {},
   "source": [
    "# Вопрос 3"
   ]
  },
  {
   "cell_type": "markdown",
   "metadata": {},
   "source": [
    "Выберите верные утверждения и запишите их номера через пробел (в порядке возрастания номера):\n",
    "\n",
    "1) На вещественных признаках лучше всего сработал наивный байесовский классификатор с распределением Бернулли\n",
    "\n",
    "2) На вещественных признаках лучше всего сработал наивный байесовский классификатор с мультиномиальным распределением\n",
    "\n",
    "3) Мультиномиальное распределение лучше показало себя на выборке с целыми неотрицательными значениями признаков\n",
    "\n",
    "4) На вещественных признаках лучше всего сработало нормальное распределение"
   ]
  },
  {
   "cell_type": "code",
   "execution_count": 11,
   "metadata": {
    "collapsed": true
   },
   "outputs": [],
   "source": [
    "def write_answer_3(score):\n",
    "    with open(\"naive_bayes3.txt\", \"w\") as file_obj:\n",
    "        file_obj.write(str(score))\n",
    "        \n",
    "write_answer_3(\"3 4\")"
   ]
  },
  {
   "cell_type": "code",
   "execution_count": null,
   "metadata": {
    "collapsed": true
   },
   "outputs": [],
   "source": []
  }
 ],
 "metadata": {
  "kernelspec": {
   "display_name": "Python 2",
   "language": "python",
   "name": "python2"
  },
  "language_info": {
   "codemirror_mode": {
    "name": "ipython",
    "version": 2
   },
   "file_extension": ".py",
   "mimetype": "text/x-python",
   "name": "python",
   "nbconvert_exporter": "python",
   "pygments_lexer": "ipython2",
   "version": "2.7.11"
  }
 },
 "nbformat": 4,
 "nbformat_minor": 0
}
